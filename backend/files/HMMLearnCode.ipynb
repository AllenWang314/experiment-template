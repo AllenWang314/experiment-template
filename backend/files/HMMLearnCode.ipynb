{
 "cells": [
  {
   "cell_type": "markdown",
   "metadata": {},
   "source": [
    "Code for markov models "
   ]
  },
  {
   "cell_type": "code",
   "execution_count": 36,
   "metadata": {},
   "outputs": [],
   "source": [
    "import numpy as np \n",
    "import matplotlib.pyplot as plt\n",
    "from hmmlearn import hmm \n",
    "\n",
    "\n",
    "\n"
   ]
  },
  {
   "cell_type": "markdown",
   "metadata": {},
   "source": [
    "Simple markov model for generating sequences of letters. *Control the initialization situation and you can expand the number of motifs*"
   ]
  },
  {
   "cell_type": "code",
   "execution_count": 277,
   "metadata": {},
   "outputs": [
    {
     "data": {
      "text/plain": [
       "'b'"
      ]
     },
     "execution_count": 277,
     "metadata": {},
     "output_type": "execute_result"
    }
   ],
   "source": [
    "\n",
    "initialization = np.array([1/3,1/3,1/3])\n",
    "#'Motif A'\n",
    "transmat1 = np.array([[.9,.05,0.05],[.99,.005,0.005],[.99,0.005,0.005]])\n",
    "#'Motif B'\n",
    "transmat2 = np.array([[0.005,.99,0.005],[.05,.9,0.05],[.005,0.99,0.005]])\n",
    "#'Motif C'\n",
    "transmat3 = np.array([[0.005,.005,.99],[0.005,.005,.99],[.05,0.05,0.9]])\n",
    "\n",
    "#'Motif 'AB'\n",
    "transmat4 = np.array([[0.05,.9,0.05],[.9,.05,0.05],[0.495,0.495,0.01]])\n",
    "#'Motif 'AC'\n",
    "transmat5 = np.array([[0.05,.05,0.9],[.495,.01,0.495],[.9,0.05,0.05]])\n",
    "#'Motif 'BC'\n",
    "transmat6 = np.array([[0.01,.495,.495],[0.05,.05,.9],[.05,0.9,0.05]])\n",
    "\n",
    "\n",
    "#'Motif 'ABC'\n",
    "transmat7 = np.array([[0.05,.9,0.05],[.05,.05,0.9],[0.9,0.05,0.05]])\n",
    "#'Motif 'ACB'\n",
    "transmat8 = np.array([[0.05,.05,0.9],[.9,.05,0.05],[.05,0.9,0.05]])\n",
    "\n",
    "\n",
    "def returnsequence(init,transmat,length):\n",
    "    model = hmm.MultinomialHMM(n_components=3)\n",
    "    model.startprob_ = init;\n",
    "    model.transmat_ = transmat;\n",
    "    model.emissionprob_ = np.array([[1,0,0],[0,1,0],[0,0,1]]);\n",
    "    [X,Z] = model.sample(length);\n",
    "    Letters = np.array([]);\n",
    "    for i in range(0,len(X)):\n",
    "        if X[i] == 0:\n",
    "            Letters = np.append(Letters,'A')\n",
    "        elif X[i] == 1:\n",
    "            Letters = np.append(Letters,'B')\n",
    "        else: \n",
    "            Letters = np.append(Letters,'C')\n",
    "    return Letters\n",
    "            \n",
    "            \n",
    "returnsequence(initialization,transmat8,20)        \n",
    "\n",
    "x = np.array(['Random','AB','BC'])\n",
    "x[1][1].lower()"
   ]
  },
  {
   "cell_type": "code",
   "execution_count": 247,
   "metadata": {},
   "outputs": [],
   "source": [
    "initialization = np.array([1/3,1/3,1/3])\n",
    "transmat1 = np.array([[.8,.1,.1],[.1,0.4,0.5],[0,0.5,0.5]])\n",
    "means = np.array([[5,  18,0.0],\n",
    "                  [0, 0,0.0],\n",
    "                  [10, 0, 0]])\n",
    "covars = np.array([[[.9,0,0],[0,.05,0],[0,0,0.05]],[[0.05,0,0],[0,.9,0],[0,0,0.05]],[[0.05,0,0],[0,0.05,0],[0,0,.9]]])\n",
    "\n",
    "model = hmm.GaussianHMM(n_components=3,covariance_type=\"full\")\n",
    "model.startprob_ = initialization\n",
    "model.transmat_=transmat1\n",
    "model.means_ = means\n",
    "model.covars_ = covars\n",
    "\n",
    "\n",
    "[X,Z] = model.sample(20)"
   ]
  },
  {
   "cell_type": "markdown",
   "metadata": {},
   "source": [
    "Plotting"
   ]
  },
  {
   "cell_type": "code",
   "execution_count": 159,
   "metadata": {},
   "outputs": [
    {
     "data": {
      "image/png": "[encoded data removed]",
      "text/plain": [
       "<Figure size 432x288 with 1 Axes>"
      ]
     },
     "metadata": {
      "needs_background": "light"
     },
     "output_type": "display_data"
    }
   ],
   "source": [
    "# Plot the sampled data\n",
    "plt.plot(X[:, 0], X[:, 1], \".-\", label=\"observations\", ms=6,\n",
    "         mfc=\"orange\", alpha=0.7)\n",
    "\n",
    "\n",
    "for i, m in enumerate(means):\n",
    "    if i == 0:\n",
    "        name = 'A'\n",
    "    elif i == 1:\n",
    "        name = 'B'\n",
    "    else:\n",
    "        name = 'C'\n",
    "    plt.text(m[0], m[1], name,\n",
    "             size=17, horizontalalignment='center',\n",
    "             bbox=dict(alpha=.7, facecolor='w'))\n"
   ]
  },
  {
   "cell_type": "code",
   "execution_count": null,
   "metadata": {},
   "outputs": [],
   "source": []
  }
 ],
 "metadata": {
  "kernelspec": {
   "display_name": "Python 3",
   "language": "python",
   "name": "python3"
  },
  "language_info": {
   "codemirror_mode": {
    "name": "ipython",
    "version": 3
   },
   "file_extension": ".py",
   "mimetype": "text/x-python",
   "name": "python",
   "nbconvert_exporter": "python",
   "pygments_lexer": "ipython3",
   "version": "3.6.10"
  }
 },
 "nbformat": 4,
 "nbformat_minor": 4
}
